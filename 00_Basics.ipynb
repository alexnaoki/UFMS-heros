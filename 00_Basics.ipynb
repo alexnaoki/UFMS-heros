{
  "nbformat": 4,
  "nbformat_minor": 0,
  "metadata": {
    "colab": {
      "name": "00-Basics.ipynb",
      "provenance": [],
      "authorship_tag": "ABX9TyMuAMqsH4fvZQOCIIoW3aEl",
      "include_colab_link": true
    },
    "kernelspec": {
      "name": "python3",
      "display_name": "Python 3"
    },
    "language_info": {
      "name": "python"
    }
  },
  "cells": [
    {
      "cell_type": "markdown",
      "metadata": {
        "id": "view-in-github",
        "colab_type": "text"
      },
      "source": [
        "<a href=\"https://colab.research.google.com/github/alexnaoki/UFMS-heros/blob/main/00_Basics.ipynb\" target=\"_parent\"><img src=\"https://colab.research.google.com/assets/colab-badge.svg\" alt=\"Open In Colab\"/></a>"
      ]
    },
    {
      "cell_type": "markdown",
      "source": [
        "# Python Basics\n"
      ],
      "metadata": {
        "id": "NBrnnF5UwzlC"
      }
    },
    {
      "cell_type": "markdown",
      "source": [
        "### Variables and Data Types"
      ],
      "metadata": {
        "id": "g9lwD5z39G9S"
      }
    },
    {
      "cell_type": "code",
      "execution_count": null,
      "metadata": {
        "id": "CUIkKNyeuNRi",
        "colab": {
          "base_uri": "https://localhost:8080/"
        },
        "outputId": "5bbd7cc6-733b-4e5e-ae8d-5ba85b3fd62f"
      },
      "outputs": [
        {
          "output_type": "stream",
          "name": "stdout",
          "text": [
            "10\n",
            "Cabra\n"
          ]
        }
      ],
      "source": [
        "# Integer\n",
        "a = 10\n",
        "\n",
        "# Float\n",
        "b = 10.1515\n",
        "\n",
        "# String\n",
        "c = 'Cabra'\n",
        "\n",
        "# Boolean\n",
        "is_it_saturday = True\n",
        "is_it_sunday = False\n",
        "\n",
        "print(a)\n",
        "print(c)"
      ]
    },
    {
      "cell_type": "markdown",
      "source": [
        "### More data types"
      ],
      "metadata": {
        "id": "xV61wwX39g4B"
      }
    },
    {
      "cell_type": "code",
      "source": [
        "# List\n",
        "a = [10, 20, 30, 40]\n",
        "\n",
        "colors = []\n",
        "\n",
        "colors.append('Green')\n",
        "colors.append('Blue')\n",
        "colors.append('Red')\n",
        "\n",
        "print(colors)\n",
        "\n",
        "print(colors[0])\n",
        "print(colors[1])\n",
        "print(colors[-1])\n",
        "\n",
        "print(colors[0:2])"
      ],
      "metadata": {
        "colab": {
          "base_uri": "https://localhost:8080/"
        },
        "id": "bGZlh9JQ9edT",
        "outputId": "c6742ba2-0976-4d02-be59-d44300682d45"
      },
      "execution_count": null,
      "outputs": [
        {
          "output_type": "stream",
          "name": "stdout",
          "text": [
            "['Green', 'Blue', 'Red']\n",
            "Green\n",
            "Blue\n",
            "Red\n",
            "['Green', 'Blue']\n"
          ]
        }
      ]
    },
    {
      "cell_type": "code",
      "source": [
        "# Tuples\n",
        "b = (10, 20, 30)"
      ],
      "metadata": {
        "id": "7RUWrBAp97iF"
      },
      "execution_count": null,
      "outputs": []
    },
    {
      "cell_type": "code",
      "source": [
        "# Dictionary\n",
        "c = {}\n",
        "\n",
        "c['fruits'] = 'apple'\n",
        "c['tool'] = 'hammer'\n",
        "c['numbers'] = [1,2,3]\n",
        "c['another'] = {'another_one': [1,2,3], 'another_two': [4,5,6]}\n",
        "\n",
        "print(c.keys())\n",
        "\n",
        "print(c['numbers'])\n",
        "\n",
        "print(c['tool'])\n",
        "\n",
        "print(c.values())"
      ],
      "metadata": {
        "colab": {
          "base_uri": "https://localhost:8080/"
        },
        "id": "-gpLB5Sh-PGz",
        "outputId": "80d12271-ee7e-45b9-f9a6-181fe5c2b4eb"
      },
      "execution_count": null,
      "outputs": [
        {
          "output_type": "stream",
          "name": "stdout",
          "text": [
            "dict_keys(['fruits', 'tool', 'numbers', 'another'])\n",
            "[1, 2, 3]\n",
            "hammer\n",
            "dict_values(['apple', 'hammer', [1, 2, 3], {'another_one': [1, 2, 3], 'another_two': [4, 5, 6]}])\n"
          ]
        }
      ]
    },
    {
      "cell_type": "markdown",
      "source": [
        "## Loop"
      ],
      "metadata": {
        "id": "c4VAkymvArc2"
      }
    },
    {
      "cell_type": "code",
      "source": [
        "# With a list\n",
        "a = [1, 5, 7, 13]\n",
        "for i in a:\n",
        "    print(i)"
      ],
      "metadata": {
        "colab": {
          "base_uri": "https://localhost:8080/"
        },
        "id": "DgJdNO1cAqYF",
        "outputId": "7a9d5129-2f02-4f43-b2e2-b79673921d59"
      },
      "execution_count": null,
      "outputs": [
        {
          "output_type": "stream",
          "name": "stdout",
          "text": [
            "1\n",
            "5\n",
            "7\n",
            "13\n"
          ]
        }
      ]
    },
    {
      "cell_type": "code",
      "source": [
        "# With a range\n",
        "for i in range(4):\n",
        "    print(i)"
      ],
      "metadata": {
        "colab": {
          "base_uri": "https://localhost:8080/"
        },
        "id": "XUgMLsb1AqCu",
        "outputId": "a1aa9818-58d3-4056-d137-1fe0c3e06919"
      },
      "execution_count": null,
      "outputs": [
        {
          "output_type": "stream",
          "name": "stdout",
          "text": [
            "0\n",
            "1\n",
            "2\n",
            "3\n"
          ]
        }
      ]
    },
    {
      "cell_type": "markdown",
      "source": [
        "# Libraries\n",
        "\n",
        "## Main libraries:\n",
        "### 1. File manipulation\n",
        "- os\n",
        "- pathlib\n",
        "\n",
        "### 2. Matrix calculation\n",
        "- Numpy\n",
        "\n",
        "### 3. Structural data\n",
        "- Pandas\n",
        "\n",
        "### 4. Statistics\n",
        "- Scipy\n",
        "- statsmodel\n",
        "- Pingouin\n",
        "\n",
        "### 4. Plotting\n",
        "- Matplotlib\n",
        "- Seaborn\n",
        "- Plotly\n",
        "\n",
        "### 4. Geoprocessing\n",
        "- gdal\n",
        "- rasterio\n",
        "- GeoPandas\n",
        "- xarray\n"
      ],
      "metadata": {
        "id": "hwCLW5lvXTZV"
      }
    },
    {
      "cell_type": "code",
      "source": [
        "import numpy as np\n",
        "import matplotlib.pyplot as plt\n",
        "import seaborn as sns"
      ],
      "metadata": {
        "id": "Jnb8sU6hW93u"
      },
      "execution_count": null,
      "outputs": []
    },
    {
      "cell_type": "code",
      "source": [
        ""
      ],
      "metadata": {
        "id": "VO-42eDtZcRE"
      },
      "execution_count": null,
      "outputs": []
    }
  ]
}