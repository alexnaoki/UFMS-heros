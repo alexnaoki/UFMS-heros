{
  "nbformat": 4,
  "nbformat_minor": 0,
  "metadata": {
    "colab": {
      "name": "02-Timeseries_using_pandas.ipynb",
      "provenance": [],
      "collapsed_sections": [
        "7qa-HSTLt4Xp",
        "hvB-fBdzt9bH",
        "snUaC4LpuWGR",
        "S4i768nsunz_",
        "IcvsIav0vGg7",
        "LQ4tMcZ0vRUQ"
      ],
      "authorship_tag": "ABX9TyP67AKWN2iKv5ObNEdxA5kk",
      "include_colab_link": true
    },
    "kernelspec": {
      "name": "python3",
      "display_name": "Python 3"
    },
    "language_info": {
      "name": "python"
    }
  },
  "cells": [
    {
      "cell_type": "markdown",
      "metadata": {
        "id": "view-in-github",
        "colab_type": "text"
      },
      "source": [
        "<a href=\"https://colab.research.google.com/github/alexnaoki/UFMS-heros/blob/main/02_Timeseries_using_pandas.ipynb\" target=\"_parent\"><img src=\"https://colab.research.google.com/assets/colab-badge.svg\" alt=\"Open In Colab\"/></a>"
      ]
    },
    {
      "cell_type": "markdown",
      "source": [
        "## 0. Import libraries"
      ],
      "metadata": {
        "id": "7qa-HSTLt4Xp"
      }
    },
    {
      "cell_type": "code",
      "execution_count": null,
      "metadata": {
        "id": "2aUW4J9Ui4iQ"
      },
      "outputs": [],
      "source": [
        "import pandas as pd\n",
        "import numpy as np\n",
        "import matplotlib.pyplot as plt\n",
        "import seaborn as sns"
      ]
    },
    {
      "cell_type": "markdown",
      "source": [
        "## 1. Reading file"
      ],
      "metadata": {
        "id": "hvB-fBdzt9bH"
      }
    },
    {
      "cell_type": "code",
      "source": [
        "time_series_data = \"https://raw.githubusercontent.com/alexnaoki/UFMS-heros/main/data/timeseries_data_fulloutput.csv\""
      ],
      "metadata": {
        "id": "slN1f1CDpy2f"
      },
      "execution_count": null,
      "outputs": []
    },
    {
      "cell_type": "code",
      "source": [
        "ep_columns =  ['date','time',  'H', 'qc_H', 'LE', 'qc_LE','sonic_temperature', 'air_temperature', 'air_pressure', 'air_density',\n",
        "               'ET', 'e', 'es', 'RH', 'VPD','Tdew', 'u_unrot', 'v_unrot', 'w_unrot', 'u_rot', 'v_rot', 'w_rot', 'wind_speed',\n",
        "               'max_wind_speed', 'wind_dir', 'u*', '(z-d)/L',  'un_H', 'H_scf', 'un_LE', 'LE_scf','u_var', 'v_var', 'w_var', 'ts_var','H_strg','LE_strg']"
      ],
      "metadata": {
        "id": "aDm6E900rAAy"
      },
      "execution_count": null,
      "outputs": []
    },
    {
      "cell_type": "code",
      "source": [
        "df = pd.read_csv(time_series_data, \n",
        "                 skiprows=[0,2],\n",
        "                 na_values=-9999,\n",
        "                 parse_dates={'TIMESTAMP': ['date','time']},\n",
        "                 usecols=ep_columns)"
      ],
      "metadata": {
        "id": "aJ8HbC49pyuD"
      },
      "execution_count": null,
      "outputs": []
    },
    {
      "cell_type": "markdown",
      "source": [
        "## 2. Checking data"
      ],
      "metadata": {
        "id": "snUaC4LpuWGR"
      }
    },
    {
      "cell_type": "code",
      "source": [
        "df.columns"
      ],
      "metadata": {
        "colab": {
          "base_uri": "https://localhost:8080/"
        },
        "id": "Yw6R_uEQqFEe",
        "outputId": "51499332-e2d6-4324-8e89-aa3231031ef4"
      },
      "execution_count": null,
      "outputs": [
        {
          "output_type": "execute_result",
          "data": {
            "text/plain": [
              "Index(['TIMESTAMP', 'H', 'qc_H', 'LE', 'qc_LE', 'H_strg', 'LE_strg',\n",
              "       'sonic_temperature', 'air_temperature', 'air_pressure', 'air_density',\n",
              "       'ET', 'e', 'es', 'RH', 'VPD', 'Tdew', 'u_unrot', 'v_unrot', 'w_unrot',\n",
              "       'u_rot', 'v_rot', 'w_rot', 'wind_speed', 'max_wind_speed', 'wind_dir',\n",
              "       'u*', '(z-d)/L', 'un_H', 'H_scf', 'un_LE', 'LE_scf', 'u_var', 'v_var',\n",
              "       'w_var', 'ts_var'],\n",
              "      dtype='object')"
            ]
          },
          "metadata": {},
          "execution_count": 27
        }
      ]
    },
    {
      "cell_type": "code",
      "source": [
        "df.dtypes"
      ],
      "metadata": {
        "colab": {
          "base_uri": "https://localhost:8080/"
        },
        "id": "T4J6kJDkqGv-",
        "outputId": "9dc247d7-78fe-49e0-8192-c31554afe322"
      },
      "execution_count": null,
      "outputs": [
        {
          "output_type": "execute_result",
          "data": {
            "text/plain": [
              "TIMESTAMP            datetime64[ns]\n",
              "H                           float64\n",
              "qc_H                          int64\n",
              "LE                          float64\n",
              "qc_LE                       float64\n",
              "H_strg                      float64\n",
              "LE_strg                     float64\n",
              "sonic_temperature           float64\n",
              "air_temperature             float64\n",
              "air_pressure                float64\n",
              "air_density                 float64\n",
              "ET                          float64\n",
              "e                           float64\n",
              "es                          float64\n",
              "RH                          float64\n",
              "VPD                         float64\n",
              "Tdew                        float64\n",
              "u_unrot                     float64\n",
              "v_unrot                     float64\n",
              "w_unrot                     float64\n",
              "u_rot                       float64\n",
              "v_rot                       float64\n",
              "w_rot                       float64\n",
              "wind_speed                  float64\n",
              "max_wind_speed              float64\n",
              "wind_dir                    float64\n",
              "u*                          float64\n",
              "(z-d)/L                     float64\n",
              "un_H                        float64\n",
              "H_scf                       float64\n",
              "un_LE                       float64\n",
              "LE_scf                      float64\n",
              "u_var                       float64\n",
              "v_var                       float64\n",
              "w_var                       float64\n",
              "ts_var                      float64\n",
              "dtype: object"
            ]
          },
          "metadata": {},
          "execution_count": 28
        }
      ]
    },
    {
      "cell_type": "markdown",
      "source": [
        "## 3. Understanding Datetime in Pandas\n",
        "\n",
        "**dtype: datetime64 [ns]**"
      ],
      "metadata": {
        "id": "S4i768nsunz_"
      }
    },
    {
      "cell_type": "code",
      "source": [
        "df['TIMESTAMP']"
      ],
      "metadata": {
        "colab": {
          "base_uri": "https://localhost:8080/"
        },
        "id": "AVeFcZfNqz-X",
        "outputId": "70acdb10-bbe0-490e-8b0d-0eddb9c8106f"
      },
      "execution_count": null,
      "outputs": [
        {
          "output_type": "execute_result",
          "data": {
            "text/plain": [
              "0      2018-10-05 00:30:00\n",
              "1      2018-10-05 01:00:00\n",
              "2      2018-10-05 01:30:00\n",
              "3      2018-10-05 02:00:00\n",
              "4      2018-10-05 02:30:00\n",
              "               ...        \n",
              "4201   2018-12-31 22:00:00\n",
              "4202   2018-12-31 22:30:00\n",
              "4203   2018-12-31 23:00:00\n",
              "4204   2018-12-31 23:30:00\n",
              "4205   2019-01-01 00:00:00\n",
              "Name: TIMESTAMP, Length: 4206, dtype: datetime64[ns]"
            ]
          },
          "metadata": {},
          "execution_count": 29
        }
      ]
    },
    {
      "cell_type": "code",
      "source": [
        "df.loc[\n",
        "       (df['TIMESTAMP'].dt.month==11)&\n",
        "       (df['TIMESTAMP'].dt.day==5), ['LE', 'H']\n",
        "].plot()"
      ],
      "metadata": {
        "colab": {
          "base_uri": "https://localhost:8080/",
          "height": 72
        },
        "id": "vsrsQOWLrUqx",
        "outputId": "6039630e-f598-42a3-c4c3-58e74c518d94"
      },
      "execution_count": null,
      "outputs": [
        {
          "output_type": "execute_result",
          "data": {
            "text/plain": [
              "<matplotlib.axes._subplots.AxesSubplot at 0x7fd0f7ed2bd0>"
            ]
          },
          "metadata": {},
          "execution_count": 30
        },
        {
          "output_type": "display_data",
          "data": {
            "text/plain": [
              "<Figure size 432x288 with 1 Axes>"
            ],
            "image/png": "[encoded data removed]"
          },
          "metadata": {
            "needs_background": "light"
          }
        }
      ]
    },
    {
      "cell_type": "code",
      "source": [
        "df['acceptance'] = np.where(df['wind_dir']>200, True, False)"
      ],
      "metadata": {
        "id": "Cmr1tJWP16ys"
      },
      "execution_count": null,
      "outputs": []
    },
    {
      "cell_type": "code",
      "source": [
        "df['acceptance'].value_counts()"
      ],
      "metadata": {
        "colab": {
          "base_uri": "https://localhost:8080/"
        },
        "id": "-oXJslP-2U6w",
        "outputId": "73cccc19-4b89-409d-9043-7d59bb337d6a"
      },
      "execution_count": null,
      "outputs": [
        {
          "output_type": "execute_result",
          "data": {
            "text/plain": [
              "True     2979\n",
              "False    1227\n",
              "Name: acceptance, dtype: int64"
            ]
          },
          "metadata": {},
          "execution_count": 32
        }
      ]
    },
    {
      "cell_type": "markdown",
      "source": [
        "## 4. Resampling data\n",
        "\n",
        "DATAFRAME**.resample()**\n",
        "> Resampler OBJECT"
      ],
      "metadata": {
        "id": "IcvsIav0vGg7"
      }
    },
    {
      "cell_type": "code",
      "source": [
        "df_time = df.set_index('TIMESTAMP')"
      ],
      "metadata": {
        "id": "J4WgEb1Druzo"
      },
      "execution_count": null,
      "outputs": []
    },
    {
      "cell_type": "code",
      "source": [
        "# Object\n",
        "df_time.resample('1d')"
      ],
      "metadata": {
        "colab": {
          "base_uri": "https://localhost:8080/"
        },
        "id": "SYLVxISBvbZi",
        "outputId": "1ed10c85-426f-41bc-f7bb-777727e47370"
      },
      "execution_count": null,
      "outputs": [
        {
          "output_type": "execute_result",
          "data": {
            "text/plain": [
              "<pandas.core.resample.DatetimeIndexResampler object at 0x7fd0f7ea0310>"
            ]
          },
          "metadata": {},
          "execution_count": 34
        }
      ]
    },
    {
      "cell_type": "code",
      "source": [
        "df_time.resample('1d').mean()['LE'].plot()"
      ],
      "metadata": {
        "colab": {
          "base_uri": "https://localhost:8080/",
          "height": 331
        },
        "id": "Vldo6G66sUcr",
        "outputId": "f049b9b2-d445-40da-aa70-2042ec8925a3"
      },
      "execution_count": null,
      "outputs": [
        {
          "output_type": "execute_result",
          "data": {
            "text/plain": [
              "<matplotlib.axes._subplots.AxesSubplot at 0x7fd0f7e0c9d0>"
            ]
          },
          "metadata": {},
          "execution_count": 35
        },
        {
          "output_type": "display_data",
          "data": {
            "text/plain": [
              "<Figure size 432x288 with 1 Axes>"
            ],
            "image/png": "[encoded data removed]"
          },
          "metadata": {
            "needs_background": "light"
          }
        }
      ]
    },
    {
      "cell_type": "markdown",
      "source": [
        "## 5. Grouping by \n",
        "\n",
        "DATAFRAME.**groupby()**\n",
        "> Groupby OBJECT"
      ],
      "metadata": {
        "id": "LQ4tMcZ0vRUQ"
      }
    },
    {
      "cell_type": "code",
      "source": [
        "df.groupby('acceptance')"
      ],
      "metadata": {
        "colab": {
          "base_uri": "https://localhost:8080/"
        },
        "id": "ioQIds7Awzm4",
        "outputId": "ba4e5f16-6277-49fa-aed4-a90d788eec90"
      },
      "execution_count": null,
      "outputs": [
        {
          "output_type": "execute_result",
          "data": {
            "text/plain": [
              "<pandas.core.groupby.generic.DataFrameGroupBy object at 0x7fd0f7d1af90>"
            ]
          },
          "metadata": {},
          "execution_count": 36
        }
      ]
    },
    {
      "cell_type": "code",
      "source": [
        "df.groupby(by='acceptance').sum()"
      ],
      "metadata": {
        "colab": {
          "base_uri": "https://localhost:8080/",
          "height": 237
        },
        "id": "PDDLqHov28Ua",
        "outputId": "85fe161e-8ef6-4e83-8da7-c21fa3c9eeff"
      },
      "execution_count": null,
      "outputs": [
        {
          "output_type": "execute_result",
          "data": {
            "text/plain": [
              "                       H  qc_H             LE   qc_LE       H_strg  \\\n",
              "acceptance                                                           \n",
              "False       69102.227983   340  166778.592481   376.0 -1157.387299   \n",
              "True        91010.215034   920  224401.037409  1156.0  1263.342148   \n",
              "\n",
              "                LE_strg  sonic_temperature  air_temperature  air_pressure  \\\n",
              "acceptance                                                                  \n",
              "False       -515.359369         368749.364       366050.995   113427097.8   \n",
              "True        1180.565980         884514.465       877590.286   275905118.4   \n",
              "\n",
              "            air_density  ...          u*     (z-d)/L           un_H  \\\n",
              "acceptance               ...                                          \n",
              "False        1315.16606  ...  446.776606    9.998725   77484.962487   \n",
              "True         3240.02819  ...  960.180403  617.474124  102074.469228   \n",
              "\n",
              "                 H_scf          un_LE      LE_scf        u_var        v_var  \\\n",
              "acceptance                                                                    \n",
              "False       1258.96803  152393.147650  1260.20252  1440.467239  1247.708009   \n",
              "True        3041.85217  205287.937449  3045.91206  2807.360667  2234.855513   \n",
              "\n",
              "                 w_var      ts_var  \n",
              "acceptance                          \n",
              "False       315.734494  301.778853  \n",
              "True        670.029419  513.798742  \n",
              "\n",
              "[2 rows x 35 columns]"
            ],
            "text/html": [
              "\n",
              "  <div id=\"df-c9928297-33ef-4693-8699-2283a851bf50\">\n",
              "    <div class=\"colab-df-container\">\n",
              "      <div>\n",
              "<style scoped>\n",
              "    .dataframe tbody tr th:only-of-type {\n",
              "        vertical-align: middle;\n",
              "    }\n",
              "\n",
              "    .dataframe tbody tr th {\n",
              "        vertical-align: top;\n",
              "    }\n",
              "\n",
              "    .dataframe thead th {\n",
              "        text-align: right;\n",
              "    }\n",
              "</style>\n",
              "<table border=\"1\" class=\"dataframe\">\n",
              "  <thead>\n",
              "    <tr style=\"text-align: right;\">\n",
              "      <th></th>\n",
              "      <th>H</th>\n",
              "      <th>qc_H</th>\n",
              "      <th>LE</th>\n",
              "      <th>qc_LE</th>\n",
              "      <th>H_strg</th>\n",
              "      <th>LE_strg</th>\n",
              "      <th>sonic_temperature</th>\n",
              "      <th>air_temperature</th>\n",
              "      <th>air_pressure</th>\n",
              "      <th>air_density</th>\n",
              "      <th>...</th>\n",
              "      <th>u*</th>\n",
              "      <th>(z-d)/L</th>\n",
              "      <th>un_H</th>\n",
              "      <th>H_scf</th>\n",
              "      <th>un_LE</th>\n",
              "      <th>LE_scf</th>\n",
              "      <th>u_var</th>\n",
              "      <th>v_var</th>\n",
              "      <th>w_var</th>\n",
              "      <th>ts_var</th>\n",
              "    </tr>\n",
              "    <tr>\n",
              "      <th>acceptance</th>\n",
              "      <th></th>\n",
              "      <th></th>\n",
              "      <th></th>\n",
              "      <th></th>\n",
              "      <th></th>\n",
              "      <th></th>\n",
              "      <th></th>\n",
              "      <th></th>\n",
              "      <th></th>\n",
              "      <th></th>\n",
              "      <th></th>\n",
              "      <th></th>\n",
              "      <th></th>\n",
              "      <th></th>\n",
              "      <th></th>\n",
              "      <th></th>\n",
              "      <th></th>\n",
              "      <th></th>\n",
              "      <th></th>\n",
              "      <th></th>\n",
              "      <th></th>\n",
              "    </tr>\n",
              "  </thead>\n",
              "  <tbody>\n",
              "    <tr>\n",
              "      <th>False</th>\n",
              "      <td>69102.227983</td>\n",
              "      <td>340</td>\n",
              "      <td>166778.592481</td>\n",
              "      <td>376.0</td>\n",
              "      <td>-1157.387299</td>\n",
              "      <td>-515.359369</td>\n",
              "      <td>368749.364</td>\n",
              "      <td>366050.995</td>\n",
              "      <td>113427097.8</td>\n",
              "      <td>1315.16606</td>\n",
              "      <td>...</td>\n",
              "      <td>446.776606</td>\n",
              "      <td>9.998725</td>\n",
              "      <td>77484.962487</td>\n",
              "      <td>1258.96803</td>\n",
              "      <td>152393.147650</td>\n",
              "      <td>1260.20252</td>\n",
              "      <td>1440.467239</td>\n",
              "      <td>1247.708009</td>\n",
              "      <td>315.734494</td>\n",
              "      <td>301.778853</td>\n",
              "    </tr>\n",
              "    <tr>\n",
              "      <th>True</th>\n",
              "      <td>91010.215034</td>\n",
              "      <td>920</td>\n",
              "      <td>224401.037409</td>\n",
              "      <td>1156.0</td>\n",
              "      <td>1263.342148</td>\n",
              "      <td>1180.565980</td>\n",
              "      <td>884514.465</td>\n",
              "      <td>877590.286</td>\n",
              "      <td>275905118.4</td>\n",
              "      <td>3240.02819</td>\n",
              "      <td>...</td>\n",
              "      <td>960.180403</td>\n",
              "      <td>617.474124</td>\n",
              "      <td>102074.469228</td>\n",
              "      <td>3041.85217</td>\n",
              "      <td>205287.937449</td>\n",
              "      <td>3045.91206</td>\n",
              "      <td>2807.360667</td>\n",
              "      <td>2234.855513</td>\n",
              "      <td>670.029419</td>\n",
              "      <td>513.798742</td>\n",
              "    </tr>\n",
              "  </tbody>\n",
              "</table>\n",
              "<p>2 rows × 35 columns</p>\n",
              "</div>\n",
              "      <button class=\"colab-df-convert\" onclick=\"convertToInteractive('df-c9928297-33ef-4693-8699-2283a851bf50')\"\n",
              "              title=\"Convert this dataframe to an interactive table.\"\n",
              "              style=\"display:none;\">\n",
              "        \n",
              "  <svg xmlns=\"http://www.w3.org/2000/svg\" height=\"24px\"viewBox=\"0 0 24 24\"\n",
              "       width=\"24px\">\n",
              "    <path d=\"M0 0h24v24H0V0z\" fill=\"none\"/>\n",
              "    <path d=\"M18.56 5.44l.94 2.06.94-2.06 2.06-.94-2.06-.94-.94-2.06-.94 2.06-2.06.94zm-11 1L8.5 8.5l.94-2.06 2.06-.94-2.06-.94L8.5 2.5l-.94 2.06-2.06.94zm10 10l.94 2.06.94-2.06 2.06-.94-2.06-.94-.94-2.06-.94 2.06-2.06.94z\"/><path d=\"M17.41 7.96l-1.37-1.37c-.4-.4-.92-.59-1.43-.59-.52 0-1.04.2-1.43.59L10.3 9.45l-7.72 7.72c-.78.78-.78 2.05 0 2.83L4 21.41c.39.39.9.59 1.41.59.51 0 1.02-.2 1.41-.59l7.78-7.78 2.81-2.81c.8-.78.8-2.07 0-2.86zM5.41 20L4 18.59l7.72-7.72 1.47 1.35L5.41 20z\"/>\n",
              "  </svg>\n",
              "      </button>\n",
              "      \n",
              "  <style>\n",
              "    .colab-df-container {\n",
              "      display:flex;\n",
              "      flex-wrap:wrap;\n",
              "      gap: 12px;\n",
              "    }\n",
              "\n",
              "    .colab-df-convert {\n",
              "      background-color: #E8F0FE;\n",
              "      border: none;\n",
              "      border-radius: 50%;\n",
              "      cursor: pointer;\n",
              "      display: none;\n",
              "      fill: #1967D2;\n",
              "      height: 32px;\n",
              "      padding: 0 0 0 0;\n",
              "      width: 32px;\n",
              "    }\n",
              "\n",
              "    .colab-df-convert:hover {\n",
              "      background-color: #E2EBFA;\n",
              "      box-shadow: 0px 1px 2px rgba(60, 64, 67, 0.3), 0px 1px 3px 1px rgba(60, 64, 67, 0.15);\n",
              "      fill: #174EA6;\n",
              "    }\n",
              "\n",
              "    [theme=dark] .colab-df-convert {\n",
              "      background-color: #3B4455;\n",
              "      fill: #D2E3FC;\n",
              "    }\n",
              "\n",
              "    [theme=dark] .colab-df-convert:hover {\n",
              "      background-color: #434B5C;\n",
              "      box-shadow: 0px 1px 3px 1px rgba(0, 0, 0, 0.15);\n",
              "      filter: drop-shadow(0px 1px 2px rgba(0, 0, 0, 0.3));\n",
              "      fill: #FFFFFF;\n",
              "    }\n",
              "  </style>\n",
              "\n",
              "      <script>\n",
              "        const buttonEl =\n",
              "          document.querySelector('#df-c9928297-33ef-4693-8699-2283a851bf50 button.colab-df-convert');\n",
              "        buttonEl.style.display =\n",
              "          google.colab.kernel.accessAllowed ? 'block' : 'none';\n",
              "\n",
              "        async function convertToInteractive(key) {\n",
              "          const element = document.querySelector('#df-c9928297-33ef-4693-8699-2283a851bf50');\n",
              "          const dataTable =\n",
              "            await google.colab.kernel.invokeFunction('convertToInteractive',\n",
              "                                                     [key], {});\n",
              "          if (!dataTable) return;\n",
              "\n",
              "          const docLinkHtml = 'Like what you see? Visit the ' +\n",
              "            '<a target=\"_blank\" href=https://colab.research.google.com/notebooks/data_table.ipynb>data table notebook</a>'\n",
              "            + ' to learn more about interactive tables.';\n",
              "          element.innerHTML = '';\n",
              "          dataTable['output_type'] = 'display_data';\n",
              "          await google.colab.output.renderOutput(dataTable, element);\n",
              "          const docLink = document.createElement('div');\n",
              "          docLink.innerHTML = docLinkHtml;\n",
              "          element.appendChild(docLink);\n",
              "        }\n",
              "      </script>\n",
              "    </div>\n",
              "  </div>\n",
              "  "
            ]
          },
          "metadata": {},
          "execution_count": 37
        }
      ]
    },
    {
      "cell_type": "code",
      "source": [
        "df.groupby(by=['acceptance', df['TIMESTAMP'].dt.hour])['LE'].mean()"
      ],
      "metadata": {
        "colab": {
          "base_uri": "https://localhost:8080/"
        },
        "id": "5EmD-DX7xKdj",
        "outputId": "4749ecd9-8ff6-42c1-d702-fc657e83de30"
      },
      "execution_count": null,
      "outputs": [
        {
          "output_type": "execute_result",
          "data": {
            "text/plain": [
              "acceptance  TIMESTAMP\n",
              "False       0             22.379819\n",
              "            1             11.340037\n",
              "            2             -6.494718\n",
              "            3              8.014913\n",
              "            4             12.543464\n",
              "            5            -16.776321\n",
              "            6             13.951942\n",
              "            7             62.232871\n",
              "            8            111.721433\n",
              "            9            177.746784\n",
              "            10           225.101093\n",
              "            11           244.427130\n",
              "            12           265.696378\n",
              "            13           256.550305\n",
              "            14           252.495929\n",
              "            15           212.012435\n",
              "            16           155.130524\n",
              "            17            93.291276\n",
              "            18            57.808459\n",
              "            19            18.574850\n",
              "            20            17.017024\n",
              "            21            25.703809\n",
              "            22             4.258005\n",
              "            23            15.918876\n",
              "True        0              9.122568\n",
              "            1              7.771450\n",
              "            2              6.945109\n",
              "            3              7.000371\n",
              "            4              7.684164\n",
              "            5              6.957929\n",
              "            6             14.447587\n",
              "            7             56.315660\n",
              "            8            125.003708\n",
              "            9            194.779385\n",
              "            10           225.947392\n",
              "            11           256.708444\n",
              "            12           258.083189\n",
              "            13           255.677372\n",
              "            14           228.822968\n",
              "            15           183.876319\n",
              "            16           135.987068\n",
              "            17            94.184647\n",
              "            18            37.928726\n",
              "            19            15.867523\n",
              "            20            16.461400\n",
              "            21            11.118724\n",
              "            22            12.122288\n",
              "            23            11.561125\n",
              "Name: LE, dtype: float64"
            ]
          },
          "metadata": {},
          "execution_count": 38
        }
      ]
    },
    {
      "cell_type": "code",
      "source": [
        "df.groupby(by=[df['TIMESTAMP'].dt.month, 'acceptance'])['LE'].plot()\n",
        "plt.legend()"
      ],
      "metadata": {
        "colab": {
          "base_uri": "https://localhost:8080/",
          "height": 282
        },
        "id": "CoGZr2On3KMa",
        "outputId": "ce743a21-e606-4576-dc63-f1cea0b7dc35"
      },
      "execution_count": null,
      "outputs": [
        {
          "output_type": "execute_result",
          "data": {
            "text/plain": [
              "<matplotlib.legend.Legend at 0x7fd0fa9008d0>"
            ]
          },
          "metadata": {},
          "execution_count": 39
        },
        {
          "output_type": "display_data",
          "data": {
            "text/plain": [
              "<Figure size 432x288 with 1 Axes>"
            ],
            "image/png": "[encoded data removed]"
          },
          "metadata": {
            "needs_background": "light"
          }
        }
      ]
    },
    {
      "cell_type": "code",
      "source": [
        "filters = (df['acceptance']==True) & (df['LE']>0)\n",
        "filter_day = (df['TIMESTAMP'].dt.hour>=6) & (df['TIMESTAMP'].dt.hour<18)\n",
        "\n",
        "df['hour'] = df['TIMESTAMP'].dt.hour"
      ],
      "metadata": {
        "id": "EYBAtKZl3cFM"
      },
      "execution_count": null,
      "outputs": []
    },
    {
      "cell_type": "code",
      "source": [
        "filter_day.head()"
      ],
      "metadata": {
        "colab": {
          "base_uri": "https://localhost:8080/"
        },
        "id": "tc1dY7Cp2u6p",
        "outputId": "98b0e2f6-9550-498e-9cd3-5bfb77ce1086"
      },
      "execution_count": null,
      "outputs": [
        {
          "output_type": "execute_result",
          "data": {
            "text/plain": [
              "0    False\n",
              "1    False\n",
              "2    False\n",
              "3    False\n",
              "4    False\n",
              "Name: TIMESTAMP, dtype: bool"
            ]
          },
          "metadata": {},
          "execution_count": 41
        }
      ]
    },
    {
      "cell_type": "code",
      "source": [
        "sns.catplot(data=df, x='acceptance', y='LE', kind='bar', hue='hour')"
      ],
      "metadata": {
        "colab": {
          "base_uri": "https://localhost:8080/",
          "height": 426
        },
        "id": "bFY5_21Ax628",
        "outputId": "e0f97d9e-6f09-412a-c289-93647c41eb0a"
      },
      "execution_count": null,
      "outputs": [
        {
          "output_type": "execute_result",
          "data": {
            "text/plain": [
              "<seaborn.axisgrid.FacetGrid at 0x7fd0f7cdf110>"
            ]
          },
          "metadata": {},
          "execution_count": 42
        },
        {
          "output_type": "display_data",
          "data": {
            "text/plain": [
              "<Figure size 408.75x360 with 1 Axes>"
            ],
            "image/png": "[encoded data removed]"
          },
          "metadata": {
            "needs_background": "light"
          }
        }
      ]
    },
    {
      "cell_type": "code",
      "source": [
        "df.loc[filters, 'LE'].groupby(by=df['TIMESTAMP'].dt.month).mean()"
      ],
      "metadata": {
        "colab": {
          "base_uri": "https://localhost:8080/"
        },
        "id": "LztVhsPW4Z6G",
        "outputId": "0e2b7e74-ae77-432a-a93b-565333bfd59d"
      },
      "execution_count": null,
      "outputs": [
        {
          "output_type": "execute_result",
          "data": {
            "text/plain": [
              "TIMESTAMP\n",
              "1      3.990190\n",
              "10    76.513920\n",
              "11    95.605542\n",
              "12    92.828324\n",
              "Name: LE, dtype: float64"
            ]
          },
          "metadata": {},
          "execution_count": 43
        }
      ]
    },
    {
      "cell_type": "code",
      "source": [
        "df.groupby(by=filter_day).mean()"
      ],
      "metadata": {
        "colab": {
          "base_uri": "https://localhost:8080/",
          "height": 237
        },
        "id": "XInZIWoN4bc_",
        "outputId": "e3ab6dcd-e1da-4801-eb43-deba45ce6ec6"
      },
      "execution_count": null,
      "outputs": [
        {
          "output_type": "execute_result",
          "data": {
            "text/plain": [
              "                   H      qc_H          LE     qc_LE    H_strg   LE_strg  \\\n",
              "TIMESTAMP                                                                  \n",
              "False     -16.530694  0.367493   13.559010  0.576628 -3.221054 -0.532207   \n",
              "True       92.406944  0.231973  172.302193  0.155745  3.256087  0.843860   \n",
              "\n",
              "           sonic_temperature  air_temperature  air_pressure  air_density  ...  \\\n",
              "TIMESTAMP                                                                 ...   \n",
              "False             296.269276       293.666379  92553.746616     1.090356  ...   \n",
              "True              299.663609       297.689382  92578.015085     1.075724  ...   \n",
              "\n",
              "                 un_H     H_scf       un_LE    LE_scf     u_var     v_var  \\\n",
              "TIMESTAMP                                                                   \n",
              "False      -15.550030  1.016668   14.599475  1.022728  0.730333  0.574656   \n",
              "True       100.656259  1.028393  155.364378  1.030702  1.288230  1.080140   \n",
              "\n",
              "              w_var    ts_var  acceptance       hour  \n",
              "TIMESTAMP                                             \n",
              "False      0.163301  0.100824    0.792660  11.530029  \n",
              "True       0.305103  0.286551    0.624288  11.499051  \n",
              "\n",
              "[2 rows x 37 columns]"
            ],
            "text/html": [
              "\n",
              "  <div id=\"df-58b1fcde-673f-41ac-bbba-9fc8d974ca60\">\n",
              "    <div class=\"colab-df-container\">\n",
              "      <div>\n",
              "<style scoped>\n",
              "    .dataframe tbody tr th:only-of-type {\n",
              "        vertical-align: middle;\n",
              "    }\n",
              "\n",
              "    .dataframe tbody tr th {\n",
              "        vertical-align: top;\n",
              "    }\n",
              "\n",
              "    .dataframe thead th {\n",
              "        text-align: right;\n",
              "    }\n",
              "</style>\n",
              "<table border=\"1\" class=\"dataframe\">\n",
              "  <thead>\n",
              "    <tr style=\"text-align: right;\">\n",
              "      <th></th>\n",
              "      <th>H</th>\n",
              "      <th>qc_H</th>\n",
              "      <th>LE</th>\n",
              "      <th>qc_LE</th>\n",
              "      <th>H_strg</th>\n",
              "      <th>LE_strg</th>\n",
              "      <th>sonic_temperature</th>\n",
              "      <th>air_temperature</th>\n",
              "      <th>air_pressure</th>\n",
              "      <th>air_density</th>\n",
              "      <th>...</th>\n",
              "      <th>un_H</th>\n",
              "      <th>H_scf</th>\n",
              "      <th>un_LE</th>\n",
              "      <th>LE_scf</th>\n",
              "      <th>u_var</th>\n",
              "      <th>v_var</th>\n",
              "      <th>w_var</th>\n",
              "      <th>ts_var</th>\n",
              "      <th>acceptance</th>\n",
              "      <th>hour</th>\n",
              "    </tr>\n",
              "    <tr>\n",
              "      <th>TIMESTAMP</th>\n",
              "      <th></th>\n",
              "      <th></th>\n",
              "      <th></th>\n",
              "      <th></th>\n",
              "      <th></th>\n",
              "      <th></th>\n",
              "      <th></th>\n",
              "      <th></th>\n",
              "      <th></th>\n",
              "      <th></th>\n",
              "      <th></th>\n",
              "      <th></th>\n",
              "      <th></th>\n",
              "      <th></th>\n",
              "      <th></th>\n",
              "      <th></th>\n",
              "      <th></th>\n",
              "      <th></th>\n",
              "      <th></th>\n",
              "      <th></th>\n",
              "      <th></th>\n",
              "    </tr>\n",
              "  </thead>\n",
              "  <tbody>\n",
              "    <tr>\n",
              "      <th>False</th>\n",
              "      <td>-16.530694</td>\n",
              "      <td>0.367493</td>\n",
              "      <td>13.559010</td>\n",
              "      <td>0.576628</td>\n",
              "      <td>-3.221054</td>\n",
              "      <td>-0.532207</td>\n",
              "      <td>296.269276</td>\n",
              "      <td>293.666379</td>\n",
              "      <td>92553.746616</td>\n",
              "      <td>1.090356</td>\n",
              "      <td>...</td>\n",
              "      <td>-15.550030</td>\n",
              "      <td>1.016668</td>\n",
              "      <td>14.599475</td>\n",
              "      <td>1.022728</td>\n",
              "      <td>0.730333</td>\n",
              "      <td>0.574656</td>\n",
              "      <td>0.163301</td>\n",
              "      <td>0.100824</td>\n",
              "      <td>0.792660</td>\n",
              "      <td>11.530029</td>\n",
              "    </tr>\n",
              "    <tr>\n",
              "      <th>True</th>\n",
              "      <td>92.406944</td>\n",
              "      <td>0.231973</td>\n",
              "      <td>172.302193</td>\n",
              "      <td>0.155745</td>\n",
              "      <td>3.256087</td>\n",
              "      <td>0.843860</td>\n",
              "      <td>299.663609</td>\n",
              "      <td>297.689382</td>\n",
              "      <td>92578.015085</td>\n",
              "      <td>1.075724</td>\n",
              "      <td>...</td>\n",
              "      <td>100.656259</td>\n",
              "      <td>1.028393</td>\n",
              "      <td>155.364378</td>\n",
              "      <td>1.030702</td>\n",
              "      <td>1.288230</td>\n",
              "      <td>1.080140</td>\n",
              "      <td>0.305103</td>\n",
              "      <td>0.286551</td>\n",
              "      <td>0.624288</td>\n",
              "      <td>11.499051</td>\n",
              "    </tr>\n",
              "  </tbody>\n",
              "</table>\n",
              "<p>2 rows × 37 columns</p>\n",
              "</div>\n",
              "      <button class=\"colab-df-convert\" onclick=\"convertToInteractive('df-58b1fcde-673f-41ac-bbba-9fc8d974ca60')\"\n",
              "              title=\"Convert this dataframe to an interactive table.\"\n",
              "              style=\"display:none;\">\n",
              "        \n",
              "  <svg xmlns=\"http://www.w3.org/2000/svg\" height=\"24px\"viewBox=\"0 0 24 24\"\n",
              "       width=\"24px\">\n",
              "    <path d=\"M0 0h24v24H0V0z\" fill=\"none\"/>\n",
              "    <path d=\"M18.56 5.44l.94 2.06.94-2.06 2.06-.94-2.06-.94-.94-2.06-.94 2.06-2.06.94zm-11 1L8.5 8.5l.94-2.06 2.06-.94-2.06-.94L8.5 2.5l-.94 2.06-2.06.94zm10 10l.94 2.06.94-2.06 2.06-.94-2.06-.94-.94-2.06-.94 2.06-2.06.94z\"/><path d=\"M17.41 7.96l-1.37-1.37c-.4-.4-.92-.59-1.43-.59-.52 0-1.04.2-1.43.59L10.3 9.45l-7.72 7.72c-.78.78-.78 2.05 0 2.83L4 21.41c.39.39.9.59 1.41.59.51 0 1.02-.2 1.41-.59l7.78-7.78 2.81-2.81c.8-.78.8-2.07 0-2.86zM5.41 20L4 18.59l7.72-7.72 1.47 1.35L5.41 20z\"/>\n",
              "  </svg>\n",
              "      </button>\n",
              "      \n",
              "  <style>\n",
              "    .colab-df-container {\n",
              "      display:flex;\n",
              "      flex-wrap:wrap;\n",
              "      gap: 12px;\n",
              "    }\n",
              "\n",
              "    .colab-df-convert {\n",
              "      background-color: #E8F0FE;\n",
              "      border: none;\n",
              "      border-radius: 50%;\n",
              "      cursor: pointer;\n",
              "      display: none;\n",
              "      fill: #1967D2;\n",
              "      height: 32px;\n",
              "      padding: 0 0 0 0;\n",
              "      width: 32px;\n",
              "    }\n",
              "\n",
              "    .colab-df-convert:hover {\n",
              "      background-color: #E2EBFA;\n",
              "      box-shadow: 0px 1px 2px rgba(60, 64, 67, 0.3), 0px 1px 3px 1px rgba(60, 64, 67, 0.15);\n",
              "      fill: #174EA6;\n",
              "    }\n",
              "\n",
              "    [theme=dark] .colab-df-convert {\n",
              "      background-color: #3B4455;\n",
              "      fill: #D2E3FC;\n",
              "    }\n",
              "\n",
              "    [theme=dark] .colab-df-convert:hover {\n",
              "      background-color: #434B5C;\n",
              "      box-shadow: 0px 1px 3px 1px rgba(0, 0, 0, 0.15);\n",
              "      filter: drop-shadow(0px 1px 2px rgba(0, 0, 0, 0.3));\n",
              "      fill: #FFFFFF;\n",
              "    }\n",
              "  </style>\n",
              "\n",
              "      <script>\n",
              "        const buttonEl =\n",
              "          document.querySelector('#df-58b1fcde-673f-41ac-bbba-9fc8d974ca60 button.colab-df-convert');\n",
              "        buttonEl.style.display =\n",
              "          google.colab.kernel.accessAllowed ? 'block' : 'none';\n",
              "\n",
              "        async function convertToInteractive(key) {\n",
              "          const element = document.querySelector('#df-58b1fcde-673f-41ac-bbba-9fc8d974ca60');\n",
              "          const dataTable =\n",
              "            await google.colab.kernel.invokeFunction('convertToInteractive',\n",
              "                                                     [key], {});\n",
              "          if (!dataTable) return;\n",
              "\n",
              "          const docLinkHtml = 'Like what you see? Visit the ' +\n",
              "            '<a target=\"_blank\" href=https://colab.research.google.com/notebooks/data_table.ipynb>data table notebook</a>'\n",
              "            + ' to learn more about interactive tables.';\n",
              "          element.innerHTML = '';\n",
              "          dataTable['output_type'] = 'display_data';\n",
              "          await google.colab.output.renderOutput(dataTable, element);\n",
              "          const docLink = document.createElement('div');\n",
              "          docLink.innerHTML = docLinkHtml;\n",
              "          element.appendChild(docLink);\n",
              "        }\n",
              "      </script>\n",
              "    </div>\n",
              "  </div>\n",
              "  "
            ]
          },
          "metadata": {},
          "execution_count": 44
        }
      ]
    },
    {
      "cell_type": "code",
      "source": [
        ""
      ],
      "metadata": {
        "id": "qG-HX0Np58_Y"
      },
      "execution_count": null,
      "outputs": []
    },
    {
      "cell_type": "markdown",
      "source": [
        "## Rolling window"
      ],
      "metadata": {
        "id": "9MjVOA8nRbB9"
      }
    },
    {
      "cell_type": "code",
      "source": [
        "df_time = df.set_index('TIMESTAMP')"
      ],
      "metadata": {
        "id": "133i1w3aRgfk"
      },
      "execution_count": null,
      "outputs": []
    },
    {
      "cell_type": "code",
      "source": [
        "df_time.rolling(1, min_periods=1).mean()['LE'].plot()"
      ],
      "metadata": {
        "colab": {
          "base_uri": "https://localhost:8080/",
          "height": 302
        },
        "id": "sM82XdbbRhBU",
        "outputId": "b00dd189-6abf-4617-98ef-d565baa60caa"
      },
      "execution_count": null,
      "outputs": [
        {
          "output_type": "execute_result",
          "data": {
            "text/plain": [
              "<matplotlib.axes._subplots.AxesSubplot at 0x7fd0f77136d0>"
            ]
          },
          "metadata": {},
          "execution_count": 55
        },
        {
          "output_type": "display_data",
          "data": {
            "text/plain": [
              "<Figure size 432x288 with 1 Axes>"
            ],
            "image/png": "[encoded data removed]"
          },
          "metadata": {
            "needs_background": "light"
          }
        }
      ]
    },
    {
      "cell_type": "code",
      "source": [
        ""
      ],
      "metadata": {
        "id": "pi_G6kWUfImB"
      },
      "execution_count": null,
      "outputs": []
    }
  ]
}