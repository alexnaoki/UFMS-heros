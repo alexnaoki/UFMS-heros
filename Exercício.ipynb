{
  "nbformat": 4,
  "nbformat_minor": 0,
  "metadata": {
    "colab": {
      "name": "Exercício.ipynb",
      "provenance": [],
      "authorship_tag": "ABX9TyNSEoDZHWWvJmtImrxEACIP",
      "include_colab_link": true
    },
    "kernelspec": {
      "name": "python3",
      "display_name": "Python 3"
    },
    "language_info": {
      "name": "python"
    }
  },
  "cells": [
    {
      "cell_type": "markdown",
      "metadata": {
        "id": "view-in-github",
        "colab_type": "text"
      },
      "source": [
        "<a href=\"https://colab.research.google.com/github/alexnaoki/UFMS-heros/blob/main/Exerc%C3%ADcio.ipynb\" target=\"_parent\"><img src=\"https://colab.research.google.com/assets/colab-badge.svg\" alt=\"Open In Colab\"/></a>"
      ]
    },
    {
      "cell_type": "code",
      "source": [
        "import pandas as pd\n",
        "import numpy as np\n",
        "import matplotlib.pyplot as plt\n",
        "import seaborn as sns\n",
        "from functools import reduce"
      ],
      "metadata": {
        "id": "febw0Dq-WIIp"
      },
      "execution_count": null,
      "outputs": []
    },
    {
      "cell_type": "markdown",
      "source": [
        "# Utilize os dados do CABra para as seguinte análise\n",
        "\n",
        "\n",
        "---\n",
        "\n",
        "\n"
      ],
      "metadata": {
        "id": "Zc_51cIQXF_e"
      }
    },
    {
      "cell_type": "markdown",
      "source": [
        "## 1. Verifique a relação de Biomas e variáveis dos componentes do balanço hídrico"
      ],
      "metadata": {
        "id": "gur1AtIyVaP0"
      }
    },
    {
      "cell_type": "code",
      "execution_count": null,
      "metadata": {
        "id": "4BWZ0Mk9VWuO"
      },
      "outputs": [],
      "source": [
        ""
      ]
    },
    {
      "cell_type": "code",
      "source": [
        ""
      ],
      "metadata": {
        "id": "rvktGeuyWTyN"
      },
      "execution_count": null,
      "outputs": []
    },
    {
      "cell_type": "markdown",
      "source": [
        "## 2. Gráficos\n",
        "\n",
        "### 2.1. Faça um histograma das variáveis dos componentes do balanço hídrico"
      ],
      "metadata": {
        "id": "1wQF0sDpWTFD"
      }
    },
    {
      "cell_type": "code",
      "source": [
        ""
      ],
      "metadata": {
        "id": "5yAael3uXg9F"
      },
      "execution_count": null,
      "outputs": []
    },
    {
      "cell_type": "markdown",
      "source": [
        "## 2.2. Faça histogramas das variáveis dos componentes do balanço hídrico, **separando por biomas**.\n"
      ],
      "metadata": {
        "id": "vBFm_2PZXili"
      }
    },
    {
      "cell_type": "code",
      "source": [
        ""
      ],
      "metadata": {
        "id": "orD7njxMXg55"
      },
      "execution_count": null,
      "outputs": []
    },
    {
      "cell_type": "code",
      "source": [
        ""
      ],
      "metadata": {
        "id": "xcpsSOwXWuaN"
      },
      "execution_count": null,
      "outputs": []
    },
    {
      "cell_type": "markdown",
      "source": [
        "## 2.3. Faça gráficos boxplot das variáveis dos componentes do balanço hídrico, **separado por biomas**"
      ],
      "metadata": {
        "id": "lFSqXFmGXx-g"
      }
    },
    {
      "cell_type": "code",
      "source": [
        ""
      ],
      "metadata": {
        "id": "iu9fv6PHYS1b"
      },
      "execution_count": null,
      "outputs": []
    },
    {
      "cell_type": "code",
      "source": [
        ""
      ],
      "metadata": {
        "id": "Dl_JiIbCYbwY"
      },
      "execution_count": null,
      "outputs": []
    }
  ]
}